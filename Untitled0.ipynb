{
  "nbformat": 4,
  "nbformat_minor": 0,
  "metadata": {
    "colab": {
      "provenance": []
    },
    "kernelspec": {
      "name": "python3",
      "display_name": "Python 3"
    },
    "language_info": {
      "name": "python"
    }
  },
  "cells": [
    {
      "cell_type": "code",
      "source": [
        "def jaccard_similarity(file1,file2):\n",
        "    # split number into sets of number\n",
        "    set1 = set(file1.split())\n",
        "    set2 = set(file2.split())\n",
        "    #  find intersection and union\n",
        "    intersection = set1.intersection(set2)\n",
        "    union = set1.union(set2)\n",
        "    # calculate jaccard similarity\n",
        "    similarity = len(intersection) / len(union)\n",
        "    # return similarity and intersecting files\n",
        "    return similarity, intersection\n",
        "\n",
        "# input files\n",
        "file1 = \"History is sytematic of the past.\"\n",
        "file2 = \"History is sytematic of the past this is just for practice.\"\n",
        "\n",
        "# calculate similarity and get common words\n",
        "similarity, common_words = jaccard_similarity(file1,file2)\n",
        "\n",
        "# print results 0.29\n",
        "print(f\"similarity: {similarity:.2f}\")\n",
        "print(f\"common_words: {common_words}\")"
      ],
      "metadata": {
        "colab": {
          "base_uri": "https://localhost:8080/"
        },
        "id": "u1byTLX0Ko0G",
        "outputId": "6ad90683-a8de-44a1-a76c-8321396c165a"
      },
      "execution_count": 22,
      "outputs": [
        {
          "output_type": "stream",
          "name": "stdout",
          "text": [
            "similarity: 0.45\n",
            "common_words: {'is', 'History', 'sytematic', 'the', 'of'}\n"
          ]
        }
      ]
    },
    {
      "cell_type": "code",
      "source": [],
      "metadata": {
        "id": "KMU5Ea7yNBx6"
      },
      "execution_count": null,
      "outputs": []
    },
    {
      "cell_type": "code",
      "source": [],
      "metadata": {
        "id": "CsT6Wm-sC9_q"
      },
      "execution_count": null,
      "outputs": []
    }
  ]
}